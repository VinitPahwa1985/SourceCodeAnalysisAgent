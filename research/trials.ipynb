{
 "cells": [
  {
   "cell_type": "code",
   "execution_count": 88,
   "metadata": {},
   "outputs": [],
   "source": [
    "import streamlit as st\n",
    "import os\n",
    "from langchain_groq import ChatGroq\n",
    "from langchain.text_splitter import RecursiveCharacterTextSplitter\n",
    "from langchain.chains.combine_documents import create_stuff_documents_chain\n",
    "from langchain_core.prompts import ChatPromptTemplate\n",
    "from langchain.chains import create_retrieval_chain\n",
    "from langchain_community.vectorstores import FAISS\n",
    "from langchain_community.document_loaders import PyPDFDirectoryLoader\n",
    "from langchain_google_genai import GoogleGenerativeAIEmbeddings\n",
    "from dotenv import load_dotenv\n",
    "from git import Repo\n",
    "from langchain.document_loaders.generic import GenericLoader\n",
    "from langchain.document_loaders.parsers import LanguageParser\n",
    "from langchain.text_splitter import Language\n",
    "from langchain.vectorstores import Chroma\n",
    "from langchain.memory import ConversationSummaryMemory\n",
    "from langchain.chains import ConversationalRetrievalChain"
   ]
  },
  {
   "cell_type": "code",
   "execution_count": 89,
   "metadata": {},
   "outputs": [
    {
     "data": {
      "text/plain": [
       "True"
      ]
     },
     "execution_count": 89,
     "metadata": {},
     "output_type": "execute_result"
    }
   ],
   "source": [
    "load_dotenv()\n"
   ]
  },
  {
   "cell_type": "code",
   "execution_count": 90,
   "metadata": {},
   "outputs": [],
   "source": [
    "## load the GROQ And OpenAI API KEY \n",
    "groq_api_key=os.getenv('GROQ_API_KEY')\n",
    "os.environ[\"GOOGLE_API_KEY\"]=os.getenv(\"GOOGLE_API_KEY\")\n",
    "\n",
    "llm=ChatGroq(groq_api_key=groq_api_key,\n",
    "             model_name=\"gemma-7b-it\")"
   ]
  },
  {
   "cell_type": "code",
   "execution_count": 91,
   "metadata": {},
   "outputs": [],
   "source": [
    "prompt=ChatPromptTemplate.from_template(\n",
    "\"\"\"\n",
    "Answer the questions based on the provided context only.\n",
    "Please provide the most accurate response based on the question\n",
    "<context>\n",
    "{context}\n",
    "<context>\n",
    "Questions:{input}\n",
    "\n",
    "\"\"\"\n",
    ")"
   ]
  },
  {
   "cell_type": "code",
   "execution_count": 92,
   "metadata": {},
   "outputs": [
    {
     "data": {
      "text/plain": [
       "'d:\\\\GENAI\\\\SourceCodeAnalysisAgent\\\\research'"
      ]
     },
     "execution_count": 92,
     "metadata": {},
     "output_type": "execute_result"
    }
   ],
   "source": [
    "\n",
    "%pwd"
   ]
  },
  {
   "cell_type": "code",
   "execution_count": 93,
   "metadata": {},
   "outputs": [
    {
     "name": "stderr",
     "output_type": "stream",
     "text": [
      "A subdirectory or file test_repo already exists.\n"
     ]
    }
   ],
   "source": [
    "!mkdir test_repo"
   ]
  },
  {
   "cell_type": "code",
   "execution_count": 94,
   "metadata": {},
   "outputs": [
    {
     "ename": "GitCommandError",
     "evalue": "Cmd('git') failed due to: exit code(128)\n  cmdline: git clone -v -- https://github.com/VinitPahwa1985/StockMarketApi test_repo/\n  stderr: 'fatal: destination path 'test_repo' already exists and is not an empty directory.\n'",
     "output_type": "error",
     "traceback": [
      "\u001b[1;31m---------------------------------------------------------------------------\u001b[0m",
      "\u001b[1;31mGitCommandError\u001b[0m                           Traceback (most recent call last)",
      "Cell \u001b[1;32mIn[94], line 3\u001b[0m\n\u001b[0;32m      1\u001b[0m repo_path \u001b[38;5;241m=\u001b[39m \u001b[38;5;124m\"\u001b[39m\u001b[38;5;124mtest_repo/\u001b[39m\u001b[38;5;124m\"\u001b[39m\n\u001b[1;32m----> 3\u001b[0m \u001b[43mRepo\u001b[49m\u001b[38;5;241;43m.\u001b[39;49m\u001b[43mclone_from\u001b[49m\u001b[43m(\u001b[49m\u001b[38;5;124;43m\"\u001b[39;49m\u001b[38;5;124;43mhttps://github.com/VinitPahwa1985/StockMarketApi\u001b[39;49m\u001b[38;5;124;43m\"\u001b[39;49m\u001b[43m,\u001b[49m\u001b[43m \u001b[49m\u001b[43mto_path\u001b[49m\u001b[38;5;241;43m=\u001b[39;49m\u001b[43mrepo_path\u001b[49m\u001b[43m)\u001b[49m\n",
      "File \u001b[1;32mc:\\Users\\vinit.pahwa\\.conda\\envs\\genaiapp\\lib\\site-packages\\git\\repo\\base.py:1525\u001b[0m, in \u001b[0;36mRepo.clone_from\u001b[1;34m(cls, url, to_path, progress, env, multi_options, allow_unsafe_protocols, allow_unsafe_options, **kwargs)\u001b[0m\n\u001b[0;32m   1523\u001b[0m \u001b[38;5;28;01mif\u001b[39;00m env \u001b[38;5;129;01mis\u001b[39;00m \u001b[38;5;129;01mnot\u001b[39;00m \u001b[38;5;28;01mNone\u001b[39;00m:\n\u001b[0;32m   1524\u001b[0m     git\u001b[38;5;241m.\u001b[39mupdate_environment(\u001b[38;5;241m*\u001b[39m\u001b[38;5;241m*\u001b[39menv)\n\u001b[1;32m-> 1525\u001b[0m \u001b[38;5;28;01mreturn\u001b[39;00m \u001b[38;5;28mcls\u001b[39m\u001b[38;5;241m.\u001b[39m_clone(\n\u001b[0;32m   1526\u001b[0m     git,\n\u001b[0;32m   1527\u001b[0m     url,\n\u001b[0;32m   1528\u001b[0m     to_path,\n\u001b[0;32m   1529\u001b[0m     GitCmdObjectDB,\n\u001b[0;32m   1530\u001b[0m     progress,\n\u001b[0;32m   1531\u001b[0m     multi_options,\n\u001b[0;32m   1532\u001b[0m     allow_unsafe_protocols\u001b[38;5;241m=\u001b[39mallow_unsafe_protocols,\n\u001b[0;32m   1533\u001b[0m     allow_unsafe_options\u001b[38;5;241m=\u001b[39mallow_unsafe_options,\n\u001b[0;32m   1534\u001b[0m     \u001b[38;5;241m*\u001b[39m\u001b[38;5;241m*\u001b[39mkwargs,\n\u001b[0;32m   1535\u001b[0m )\n",
      "File \u001b[1;32mc:\\Users\\vinit.pahwa\\.conda\\envs\\genaiapp\\lib\\site-packages\\git\\repo\\base.py:1396\u001b[0m, in \u001b[0;36mRepo._clone\u001b[1;34m(cls, git, url, path, odb_default_type, progress, multi_options, allow_unsafe_protocols, allow_unsafe_options, **kwargs)\u001b[0m\n\u001b[0;32m   1393\u001b[0m     cmdline \u001b[38;5;241m=\u001b[39m remove_password_if_present(cmdline)\n\u001b[0;32m   1395\u001b[0m     _logger\u001b[38;5;241m.\u001b[39mdebug(\u001b[38;5;124m\"\u001b[39m\u001b[38;5;124mCmd(\u001b[39m\u001b[38;5;132;01m%s\u001b[39;00m\u001b[38;5;124m)\u001b[39m\u001b[38;5;124m'\u001b[39m\u001b[38;5;124ms unused stdout: \u001b[39m\u001b[38;5;132;01m%s\u001b[39;00m\u001b[38;5;124m\"\u001b[39m, cmdline, stdout)\n\u001b[1;32m-> 1396\u001b[0m     \u001b[43mfinalize_process\u001b[49m\u001b[43m(\u001b[49m\u001b[43mproc\u001b[49m\u001b[43m,\u001b[49m\u001b[43m \u001b[49m\u001b[43mstderr\u001b[49m\u001b[38;5;241;43m=\u001b[39;49m\u001b[43mstderr\u001b[49m\u001b[43m)\u001b[49m\n\u001b[0;32m   1398\u001b[0m \u001b[38;5;66;03m# Our git command could have a different working dir than our actual\u001b[39;00m\n\u001b[0;32m   1399\u001b[0m \u001b[38;5;66;03m# environment, hence we prepend its working dir if required.\u001b[39;00m\n\u001b[0;32m   1400\u001b[0m \u001b[38;5;28;01mif\u001b[39;00m \u001b[38;5;129;01mnot\u001b[39;00m osp\u001b[38;5;241m.\u001b[39misabs(path):\n",
      "File \u001b[1;32mc:\\Users\\vinit.pahwa\\.conda\\envs\\genaiapp\\lib\\site-packages\\git\\util.py:504\u001b[0m, in \u001b[0;36mfinalize_process\u001b[1;34m(proc, **kwargs)\u001b[0m\n\u001b[0;32m    501\u001b[0m \u001b[38;5;250m\u001b[39m\u001b[38;5;124;03m\"\"\"Wait for the process (clone, fetch, pull or push) and handle its errors\u001b[39;00m\n\u001b[0;32m    502\u001b[0m \u001b[38;5;124;03maccordingly.\"\"\"\u001b[39;00m\n\u001b[0;32m    503\u001b[0m \u001b[38;5;66;03m# TODO: No close proc-streams??\u001b[39;00m\n\u001b[1;32m--> 504\u001b[0m proc\u001b[38;5;241m.\u001b[39mwait(\u001b[38;5;241m*\u001b[39m\u001b[38;5;241m*\u001b[39mkwargs)\n",
      "File \u001b[1;32mc:\\Users\\vinit.pahwa\\.conda\\envs\\genaiapp\\lib\\site-packages\\git\\cmd.py:834\u001b[0m, in \u001b[0;36mGit.AutoInterrupt.wait\u001b[1;34m(self, stderr)\u001b[0m\n\u001b[0;32m    832\u001b[0m     errstr \u001b[38;5;241m=\u001b[39m read_all_from_possibly_closed_stream(p_stderr)\n\u001b[0;32m    833\u001b[0m     _logger\u001b[38;5;241m.\u001b[39mdebug(\u001b[38;5;124m\"\u001b[39m\u001b[38;5;124mAutoInterrupt wait stderr: \u001b[39m\u001b[38;5;132;01m%r\u001b[39;00m\u001b[38;5;124m\"\u001b[39m \u001b[38;5;241m%\u001b[39m (errstr,))\n\u001b[1;32m--> 834\u001b[0m     \u001b[38;5;28;01mraise\u001b[39;00m GitCommandError(remove_password_if_present(\u001b[38;5;28mself\u001b[39m\u001b[38;5;241m.\u001b[39margs), status, errstr)\n\u001b[0;32m    835\u001b[0m \u001b[38;5;28;01mreturn\u001b[39;00m status\n",
      "\u001b[1;31mGitCommandError\u001b[0m: Cmd('git') failed due to: exit code(128)\n  cmdline: git clone -v -- https://github.com/VinitPahwa1985/StockMarketApi test_repo/\n  stderr: 'fatal: destination path 'test_repo' already exists and is not an empty directory.\n'"
     ]
    }
   ],
   "source": [
    "repo_path = \"test_repo/\"\n",
    "\n",
    "Repo.clone_from(\"https://github.com/VinitPahwa1985/StockMarketApi\", to_path=repo_path)"
   ]
  },
  {
   "cell_type": "code",
   "execution_count": 95,
   "metadata": {},
   "outputs": [],
   "source": [
    "repo_path = \"test_repo/\"\n",
    "\n",
    "loader = GenericLoader.from_filesystem(repo_path+'/src',\n",
    "                                        glob = \"**/*\",\n",
    "                                       suffixes=[\".java\"],\n",
    "                                       parser = LanguageParser(language=Language.PYTHON, parser_threshold=500)\n",
    ")"
   ]
  },
  {
   "cell_type": "code",
   "execution_count": 96,
   "metadata": {},
   "outputs": [],
   "source": [
    "documents = loader.load()"
   ]
  },
  {
   "cell_type": "code",
   "execution_count": 97,
   "metadata": {},
   "outputs": [
    {
     "data": {
      "text/plain": [
       "[Document(page_content='package com.vinit.stockmarket.stockmarket;\\n\\nimport org.springframework.boot.SpringApplication;\\nimport org.springframework.boot.autoconfigure.SpringBootApplication;\\n\\n@SpringBootApplication\\npublic class StockmarketApplication {\\n\\n\\tpublic static void main(String[] args) {\\n\\t\\tSpringApplication.run(StockmarketApplication.class, args);\\n\\t}\\n\\n}\\n', metadata={'source': 'test_repo\\\\src\\\\main\\\\java\\\\com\\\\vinit\\\\stockmarket\\\\stockmarket\\\\StockmarketApplication.java', 'language': <Language.PYTHON: 'python'>}),\n",
       " Document(page_content='package com.vinit.stockmarket.stockmarket.controller;\\n\\nimport java.net.URI;\\nimport java.sql.Timestamp;\\nimport java.util.ArrayList;\\nimport java.util.HashMap;\\nimport java.util.List;\\nimport java.util.Map;\\nimport java.util.Optional;\\n\\nimport org.springframework.beans.factory.annotation.Autowired;\\nimport org.springframework.data.domain.Page;\\nimport org.springframework.data.domain.PageRequest;\\nimport org.springframework.data.domain.Pageable;\\nimport org.springframework.http.HttpStatus;\\nimport org.springframework.http.ResponseEntity;\\nimport org.springframework.web.bind.annotation.DeleteMapping;\\nimport org.springframework.web.bind.annotation.GetMapping;\\nimport org.springframework.web.bind.annotation.PathVariable;\\nimport org.springframework.web.bind.annotation.PostMapping;\\nimport org.springframework.web.bind.annotation.PutMapping;\\nimport org.springframework.web.bind.annotation.RequestBody;\\nimport org.springframework.web.bind.annotation.RequestParam;\\nimport org.springframework.web.bind.annotation.RestController;\\nimport org.springframework.web.servlet.support.ServletUriComponentsBuilder;\\n\\nimport com.vinit.stockmarket.stockmarket.exception.handler.StockNotFoundException;\\nimport com.vinit.stockmarket.stockmarket.model.Stock;\\nimport com.vinit.stockmarket.stockmarket.repository.StockJpaRepository;\\n\\nimport io.swagger.v3.oas.annotations.Operation;\\n\\n@RestController\\npublic class StockResourceController {\\n\\n\\t@Autowired\\n\\tprivate StockJpaRepository stockJpaRepository;\\n\\n\\t@Operation(summary = \"Get all Stock Information\")\\n\\t@GetMapping(\"/GET/api/stocks\")\\n\\tpublic ResponseEntity<Map<String, Object>> getAllStocks(\\n\\t\\t\\t// @RequestParam(required = false) String title,\\n\\t\\t\\t@RequestParam(defaultValue = \"0\") int page, @RequestParam(defaultValue = \"3\") int size,\\n\\t\\t\\t@RequestParam(defaultValue = \"id,desc\") String[] sort) {\\n\\n\\t\\ttry {\\n\\t\\t\\tList<Stock> orders = new ArrayList<Stock>();\\n\\n\\t\\t\\tPageable pagingSort = PageRequest.of(page, size);\\n\\n\\t\\t\\tPage<Stock> pageTuts;\\n\\t\\t\\t// if (title == null)\\n\\t\\t\\tpageTuts = stockJpaRepository.findAll(pagingSort);\\n\\t\\t\\t// else\\n\\t\\t\\t// pageTuts = tutorialRepository.findByTitleContaining(title, pagingSort);\\n\\n\\t\\t\\torders = pageTuts.getContent();\\n\\n\\t\\t\\tMap<String, Object> response = new HashMap<>();\\n\\t\\t\\tresponse.put(\"Stocks\", orders);\\n\\t\\t\\tresponse.put(\"currentPage\", pageTuts.getNumber());\\n\\t\\t\\tresponse.put(\"totalItems\", pageTuts.getTotalElements());\\n\\t\\t\\tresponse.put(\"totalPages\", pageTuts.getTotalPages());\\n\\n\\t\\t\\treturn new ResponseEntity<>(response, HttpStatus.OK);\\n\\t\\t} catch (Exception e) {\\n\\t\\t\\treturn new ResponseEntity<>(null, HttpStatus.INTERNAL_SERVER_ERROR);\\n\\t\\t}\\n\\t}\\n\\n\\t@Operation(summary = \"Get Stock Information By Id\")\\n\\t@GetMapping(\"/GET/api/stocks/{id}\")\\n\\tpublic ResponseEntity<Stock> getStockById(@PathVariable(\"id\") Long id) {\\n\\t\\tOptional<Stock> tutorialData = stockJpaRepository.findById(id);\\n\\n\\t\\tif (tutorialData.isPresent()) {\\n\\t\\t\\treturn new ResponseEntity<>(tutorialData.get(), HttpStatus.OK);\\n\\t\\t} else {\\n\\t\\t\\treturn new ResponseEntity<>(HttpStatus.NOT_FOUND);\\n\\t\\t}\\n\\t}\\n\\n\\t// DELETE /users/{username}/todos/{id}\\n\\t@Operation(summary = \"Delete Stock Information By Id\")\\n\\t@DeleteMapping(\"/DELETE/api/stocks/{id}\")\\n\\tpublic ResponseEntity<HttpStatus> deleteStock(@PathVariable(\"id\") long id) {\\n\\t\\ttry {\\n\\t\\t\\tstockJpaRepository.deleteById(id);\\n\\t\\t\\treturn new ResponseEntity<>(HttpStatus.NO_CONTENT);\\n\\t\\t} catch (Exception e) {\\n\\t\\t\\treturn new ResponseEntity<>(HttpStatus.INTERNAL_SERVER_ERROR);\\n\\t\\t}\\n\\t}\\n\\n\\t// Edit/Update a Todo\\n\\t// PUT /users/{user_name}/todos/{todo_id}\\n\\t@Operation(summary = \"Updating the Stock Information\")\\n\\t@PutMapping(\"/PATCH/api/stocks/{id}\")\\n\\tpublic ResponseEntity<Stock> updateStock(@PathVariable long id, @RequestBody Stock stock) {\\n\\n\\t\\tOptional<Stock> existingStock = stockJpaRepository.findById(id);\\n\\n\\t\\tif (!existingStock.isPresent()) {\\n\\t\\t\\tthrow new StockNotFoundException(\"Stock [id: \" + id + \"] not found.\");\\n\\t\\t}\\n\\n\\t\\tif (!((existingStock.get().getName() != null && stock.getName() != null)\\n\\t\\t\\t\\t&& (existingStock.get().getName().equalsIgnoreCase(stock.getName())))) {\\n\\t\\t\\tthrow new StockNotFoundException(\"Stock [Name: \" + existingStock.get().getName() + \"] not is mismatched.\");\\n\\t\\t}\\n\\n\\t\\tstock.setId(id);\\n\\n\\t\\tif (stock.getLastupdate() == null) {\\n\\t\\t\\tstock.setLastupdate(new Timestamp(System.currentTimeMillis()));\\n\\t\\t}\\n\\n\\t\\tStock todoUpdated = stockJpaRepository.save(stock);\\n\\n\\t\\treturn new ResponseEntity<Stock>(stock, HttpStatus.OK);\\n\\t}\\n\\n\\t@Operation(summary = \"Creating New Stock Information\")\\n\\t@PostMapping(\"/POST/api/stocks\")\\n\\tpublic ResponseEntity<Void> createStock(@RequestBody Stock stock) {\\n\\n\\t\\tStock createdTodo = stockJpaRepository.save(stock);\\n\\n\\t\\tURI uri = ServletUriComponentsBuilder.fromCurrentRequest().path(\"/{id}\").buildAndExpand(createdTodo.getId())\\n\\t\\t\\t\\t.toUri();\\n\\n\\t\\treturn ResponseEntity.created(uri).build();\\n\\t}\\n}\\n', metadata={'source': 'test_repo\\\\src\\\\main\\\\java\\\\com\\\\vinit\\\\stockmarket\\\\stockmarket\\\\controller\\\\StockResourceController.java', 'language': <Language.PYTHON: 'python'>}),\n",
       " Document(page_content='package com.vinit.stockmarket.stockmarket.exception.handler;\\n\\nimport lombok.extern.slf4j.Slf4j;\\nimport org.springframework.web.bind.annotation.ControllerAdvice;\\n\\n/**\\n * Handle application specific exception in user friendly way.\\n */\\n@Slf4j\\n@ControllerAdvice\\npublic class ApplicationExceptionHandler extends BaseExceptionHandler {\\n\\n    public ApplicationExceptionHandler() {\\n        super(log);\\n    }\\n\\n}', metadata={'source': 'test_repo\\\\src\\\\main\\\\java\\\\com\\\\vinit\\\\stockmarket\\\\stockmarket\\\\exception\\\\handler\\\\ApplicationExceptionHandler.java', 'language': <Language.PYTHON: 'python'>}),\n",
       " Document(page_content='package com.vinit.stockmarket.stockmarket.exception.handler;\\n\\n\\nimport lombok.Data;\\nimport org.slf4j.Logger;\\nimport org.springframework.http.HttpStatus;\\nimport org.springframework.web.bind.MethodArgumentNotValidException;\\nimport org.springframework.web.bind.annotation.ExceptionHandler;\\nimport org.springframework.web.bind.annotation.ResponseBody;\\nimport org.springframework.web.bind.annotation.ResponseStatus;\\nimport org.springframework.web.servlet.NoHandlerFoundException;\\n\\n/**\\n * BaseExceptionHandler provides -\\n * 1. Handles any unknown error/exception.\\n * 2. ErrorResponse, DTO containing error information.\\n */\\npublic abstract class BaseExceptionHandler {\\n\\n    protected static Logger log;\\n\\n    protected BaseExceptionHandler(final Logger log) {\\n        BaseExceptionHandler.log = log;\\n    }\\n\\n    /**\\n     * Catch any unknown error/exception and provide readable response to end-user.\\n     *\\n     * @param ex Throwable object for error/exception.\\n     * @return the error response DTO {@link ErrorResponse}\\n     */\\n    @ResponseStatus(HttpStatus.INTERNAL_SERVER_ERROR)\\n    @ExceptionHandler(Throwable.class)\\n    @ResponseBody\\n    public ErrorResponse handleThrowable(final Throwable ex) {\\n        log.error(\"Unexpected error\", ex);\\n        return new ErrorResponse(\"INTERNAL_SERVER_ERROR\", \"An unexpected internal server error occurred\");\\n    }\\n\\n    @ResponseStatus(HttpStatus.NOT_FOUND)\\n    @ExceptionHandler(NoHandlerFoundException.class)\\n    @ResponseBody\\n    public void handleNoHandlerFoundException(final Throwable ex) {\\n        log.error(\"Unexpected error\", ex);\\n    }\\n\\n    @ResponseStatus(HttpStatus.BAD_REQUEST)\\n    @ExceptionHandler(MethodArgumentNotValidException.class)\\n    @ResponseBody\\n    public void handleMethodArgumentNotValidException(final Throwable ex) {\\n        log.error(\"Unexpected error\", ex);\\n    }\\n\\n\\n    /**\\n     * DTO containing error information.\\n     */\\n    @Data\\n    public static class ErrorResponse {\\n\\n\\t\\tpublic ErrorResponse(String code, String message) {\\n\\t\\t\\t// TODO Auto-generated constructor stub\\n\\t\\t}\\n\\n\\t\\n    }\\n\\n}', metadata={'source': 'test_repo\\\\src\\\\main\\\\java\\\\com\\\\vinit\\\\stockmarket\\\\stockmarket\\\\exception\\\\handler\\\\BaseExceptionHandler.java', 'language': <Language.PYTHON: 'python'>}),\n",
       " Document(page_content='package com.vinit.stockmarket.stockmarket.exception.handler;\\n\\npublic class StockNotFoundException extends RuntimeException {\\n\\n    /**\\n\\t * \\n\\t */\\n\\tprivate static final long serialVersionUID = 1L;\\n\\n\\tpublic StockNotFoundException(String message) {\\n        super(message);\\n    }\\n}\\n', metadata={'source': 'test_repo\\\\src\\\\main\\\\java\\\\com\\\\vinit\\\\stockmarket\\\\stockmarket\\\\exception\\\\handler\\\\StockNotFoundException.java', 'language': <Language.PYTHON: 'python'>}),\n",
       " Document(page_content='package com.vinit.stockmarket.stockmarket.model;\\n\\nimport java.math.BigDecimal;\\nimport java.sql.Timestamp;\\n\\nimport javax.persistence.Entity;\\nimport javax.persistence.GeneratedValue;\\nimport javax.persistence.GenerationType;\\nimport javax.persistence.Id;\\nimport javax.validation.constraints.NotNull;\\n\\n\\n/***\\n * \\n * @author pahwa\\n *\\n */\\n\\n@Entity\\npublic class Stock {\\n\\t@Id\\n\\t@GeneratedValue(strategy = GenerationType.SEQUENCE)\\n\\tprivate Long id;\\n\\n\\t@NotNull\\n\\tprivate String name;\\n\\n\\t@NotNull\\n\\tprivate BigDecimal currentprice;\\n\\t\\n\\tpublic BigDecimal getCurrentprice() {\\n\\t\\treturn currentprice;\\n\\t}\\n\\n\\tpublic void setCurrentprice(BigDecimal currentprice) {\\n\\t\\tthis.currentprice = currentprice;\\n\\t}\\n\\n\\tpublic Timestamp getLastupdate() {\\n\\t\\treturn lastupdate;\\n\\t}\\n\\n\\tpublic void setLastupdate(Timestamp lastupdate) {\\n\\t\\tthis.lastupdate = lastupdate;\\n\\t}\\n\\n\\t@NotNull\\n\\tprivate Timestamp lastupdate;\\n\\n\\tpublic Stock() {\\n\\n\\t}\\n\\n\\tpublic Stock(long id, String name, BigDecimal currentprice, Timestamp lastupdate) {\\n\\t\\tsuper();\\n\\t\\tthis.id = id;\\n\\t\\tthis.name = name;\\n\\t\\tthis.currentprice = currentprice;\\n\\t\\tthis.lastupdate = lastupdate;\\n\\t}\\n\\n\\tpublic Long getId() {\\n\\t\\treturn id;\\n\\t}\\n\\n\\tpublic void setId(Long id) {\\n\\t\\tthis.id = id;\\n\\t}\\n\\n\\tpublic String getName() {\\n\\t\\treturn name;\\n\\t}\\n\\n\\tpublic void setName(String name) {\\n\\t\\tthis.name = name;\\n\\t}\\n\\n\\n\\n\\t@Override\\n\\tpublic int hashCode() {\\n\\t\\tfinal int prime = 31;\\n\\t\\tint result = 1;\\n\\t\\tresult = prime * result + (int) (id ^ (id >>> 32));\\n\\t\\treturn result;\\n\\t}\\n\\n\\t@Override\\n\\tpublic boolean equals(Object obj) {\\n\\t\\tif (this == obj)\\n\\t\\t\\treturn true;\\n\\t\\tif (obj == null)\\n\\t\\t\\treturn false;\\n\\t\\tif (getClass() != obj.getClass())\\n\\t\\t\\treturn false;\\n\\t\\tStock other = (Stock) obj;\\n\\t\\tif (id != other.id)\\n\\t\\t\\treturn false;\\n\\t\\treturn true;\\n\\t}\\n\\n}\\n', metadata={'source': 'test_repo\\\\src\\\\main\\\\java\\\\com\\\\vinit\\\\stockmarket\\\\stockmarket\\\\model\\\\Stock.java', 'language': <Language.PYTHON: 'python'>}),\n",
       " Document(page_content='package com.vinit.stockmarket.stockmarket.repository;\\n\\nimport org.springframework.data.domain.Page;\\nimport org.springframework.data.domain.Pageable;\\nimport org.springframework.data.jpa.repository.JpaRepository;\\nimport org.springframework.stereotype.Component;\\nimport org.springframework.stereotype.Repository;\\n\\nimport com.vinit.stockmarket.stockmarket.model.Stock;\\n\\n@Repository\\n@Component\\npublic interface StockJpaRepository extends JpaRepository<Stock, Long> {\\n\\n\\tPage<Stock> findByNameContaining(String nameStock, Pageable pageable);\\n}\\n', metadata={'source': 'test_repo\\\\src\\\\main\\\\java\\\\com\\\\vinit\\\\stockmarket\\\\stockmarket\\\\repository\\\\StockJpaRepository.java', 'language': <Language.PYTHON: 'python'>}),\n",
       " Document(page_content='package com.vinit.stockmarket.stockmarket.service;\\n\\nimport java.util.List;\\n\\nimport com.vinit.stockmarket.stockmarket.model.Stock;\\n\\npublic interface StockService {\\n\\t List<Stock> getStocks(int page, int limit);\\n}\\n', metadata={'source': 'test_repo\\\\src\\\\main\\\\java\\\\com\\\\vinit\\\\stockmarket\\\\stockmarket\\\\service\\\\StockService.java', 'language': <Language.PYTHON: 'python'>}),\n",
       " Document(page_content='package com.vinit.stockmarket.stockmarket.service;\\n\\nimport java.util.List;\\n\\nimport org.springframework.beans.factory.annotation.Autowired;\\nimport org.springframework.stereotype.Service;\\n\\nimport com.vinit.stockmarket.stockmarket.model.Stock;\\nimport com.vinit.stockmarket.stockmarket.repository.StockJpaRepository;\\n\\n@Service\\npublic class StockServiceImpl implements StockService {\\n\\n\\t@Autowired\\n\\tprivate StockJpaRepository stockRepository;\\n\\n\\t@Override\\n\\tpublic List<Stock> getStocks(int page, int limit) {\\n\\t\\t// TODO Auto-generated method stub\\n\\t\\treturn null;\\n\\t}\\n\\n\\n}\\n', metadata={'source': 'test_repo\\\\src\\\\main\\\\java\\\\com\\\\vinit\\\\stockmarket\\\\stockmarket\\\\service\\\\StockServiceImpl.java', 'language': <Language.PYTHON: 'python'>})]"
      ]
     },
     "execution_count": 97,
     "metadata": {},
     "output_type": "execute_result"
    }
   ],
   "source": [
    "documents"
   ]
  },
  {
   "cell_type": "code",
   "execution_count": null,
   "metadata": {},
   "outputs": [],
   "source": [
    "documents_splitter = RecursiveCharacterTextSplitter.from_language(language = Language.JAVA,\n",
    "                                                             chunk_size = 1000,\n",
    "                                                             chunk_overlap = 200)"
   ]
  },
  {
   "cell_type": "code",
   "execution_count": null,
   "metadata": {},
   "outputs": [],
   "source": [
    "texts = documents_splitter.split_documents(documents)"
   ]
  },
  {
   "cell_type": "code",
   "execution_count": null,
   "metadata": {},
   "outputs": [
    {
     "data": {
      "text/plain": [
       "0"
      ]
     },
     "execution_count": 78,
     "metadata": {},
     "output_type": "execute_result"
    }
   ],
   "source": [
    "len(texts)"
   ]
  },
  {
   "cell_type": "code",
   "execution_count": null,
   "metadata": {},
   "outputs": [],
   "source": [
    "embeddings=GoogleGenerativeAIEmbeddings(model = \"models/embedding-001\")"
   ]
  },
  {
   "cell_type": "code",
   "execution_count": null,
   "metadata": {},
   "outputs": [
    {
     "ename": "IndexError",
     "evalue": "list index out of range",
     "output_type": "error",
     "traceback": [
      "\u001b[1;31m---------------------------------------------------------------------------\u001b[0m",
      "\u001b[1;31mIndexError\u001b[0m                                Traceback (most recent call last)",
      "Cell \u001b[1;32mIn[80], line 1\u001b[0m\n\u001b[1;32m----> 1\u001b[0m vectordb \u001b[38;5;241m=\u001b[39m \u001b[43mFAISS\u001b[49m\u001b[38;5;241;43m.\u001b[39;49m\u001b[43mfrom_documents\u001b[49m\u001b[43m(\u001b[49m\u001b[43mtexts\u001b[49m\u001b[43m,\u001b[49m\u001b[43m \u001b[49m\u001b[43membedding\u001b[49m\u001b[38;5;241;43m=\u001b[39;49m\u001b[43membeddings\u001b[49m\u001b[43m)\u001b[49m\n",
      "File \u001b[1;32mc:\\Users\\vinit.pahwa\\.conda\\envs\\genaiapp\\lib\\site-packages\\langchain_core\\vectorstores.py:635\u001b[0m, in \u001b[0;36mVectorStore.from_documents\u001b[1;34m(cls, documents, embedding, **kwargs)\u001b[0m\n\u001b[0;32m    633\u001b[0m texts \u001b[38;5;241m=\u001b[39m [d\u001b[38;5;241m.\u001b[39mpage_content \u001b[38;5;28;01mfor\u001b[39;00m d \u001b[38;5;129;01min\u001b[39;00m documents]\n\u001b[0;32m    634\u001b[0m metadatas \u001b[38;5;241m=\u001b[39m [d\u001b[38;5;241m.\u001b[39mmetadata \u001b[38;5;28;01mfor\u001b[39;00m d \u001b[38;5;129;01min\u001b[39;00m documents]\n\u001b[1;32m--> 635\u001b[0m \u001b[38;5;28;01mreturn\u001b[39;00m \u001b[38;5;28mcls\u001b[39m\u001b[38;5;241m.\u001b[39mfrom_texts(texts, embedding, metadatas\u001b[38;5;241m=\u001b[39mmetadatas, \u001b[38;5;241m*\u001b[39m\u001b[38;5;241m*\u001b[39mkwargs)\n",
      "File \u001b[1;32mc:\\Users\\vinit.pahwa\\.conda\\envs\\genaiapp\\lib\\site-packages\\langchain_community\\vectorstores\\faiss.py:931\u001b[0m, in \u001b[0;36mFAISS.from_texts\u001b[1;34m(cls, texts, embedding, metadatas, ids, **kwargs)\u001b[0m\n\u001b[0;32m    912\u001b[0m \u001b[38;5;250m\u001b[39m\u001b[38;5;124;03m\"\"\"Construct FAISS wrapper from raw documents.\u001b[39;00m\n\u001b[0;32m    913\u001b[0m \n\u001b[0;32m    914\u001b[0m \u001b[38;5;124;03mThis is a user friendly interface that:\u001b[39;00m\n\u001b[1;32m   (...)\u001b[0m\n\u001b[0;32m    928\u001b[0m \u001b[38;5;124;03m        faiss = FAISS.from_texts(texts, embeddings)\u001b[39;00m\n\u001b[0;32m    929\u001b[0m \u001b[38;5;124;03m\"\"\"\u001b[39;00m\n\u001b[0;32m    930\u001b[0m embeddings \u001b[38;5;241m=\u001b[39m embedding\u001b[38;5;241m.\u001b[39membed_documents(texts)\n\u001b[1;32m--> 931\u001b[0m \u001b[38;5;28;01mreturn\u001b[39;00m \u001b[38;5;28mcls\u001b[39m\u001b[38;5;241m.\u001b[39m__from(\n\u001b[0;32m    932\u001b[0m     texts,\n\u001b[0;32m    933\u001b[0m     embeddings,\n\u001b[0;32m    934\u001b[0m     embedding,\n\u001b[0;32m    935\u001b[0m     metadatas\u001b[38;5;241m=\u001b[39mmetadatas,\n\u001b[0;32m    936\u001b[0m     ids\u001b[38;5;241m=\u001b[39mids,\n\u001b[0;32m    937\u001b[0m     \u001b[38;5;241m*\u001b[39m\u001b[38;5;241m*\u001b[39mkwargs,\n\u001b[0;32m    938\u001b[0m )\n",
      "File \u001b[1;32mc:\\Users\\vinit.pahwa\\.conda\\envs\\genaiapp\\lib\\site-packages\\langchain_community\\vectorstores\\faiss.py:888\u001b[0m, in \u001b[0;36mFAISS.__from\u001b[1;34m(cls, texts, embeddings, embedding, metadatas, ids, normalize_L2, distance_strategy, **kwargs)\u001b[0m\n\u001b[0;32m    885\u001b[0m     index \u001b[38;5;241m=\u001b[39m faiss\u001b[38;5;241m.\u001b[39mIndexFlatIP(\u001b[38;5;28mlen\u001b[39m(embeddings[\u001b[38;5;241m0\u001b[39m]))\n\u001b[0;32m    886\u001b[0m \u001b[38;5;28;01melse\u001b[39;00m:\n\u001b[0;32m    887\u001b[0m     \u001b[38;5;66;03m# Default to L2, currently other metric types not initialized.\u001b[39;00m\n\u001b[1;32m--> 888\u001b[0m     index \u001b[38;5;241m=\u001b[39m faiss\u001b[38;5;241m.\u001b[39mIndexFlatL2(\u001b[38;5;28mlen\u001b[39m(\u001b[43membeddings\u001b[49m\u001b[43m[\u001b[49m\u001b[38;5;241;43m0\u001b[39;49m\u001b[43m]\u001b[49m))\n\u001b[0;32m    889\u001b[0m docstore \u001b[38;5;241m=\u001b[39m kwargs\u001b[38;5;241m.\u001b[39mpop(\u001b[38;5;124m\"\u001b[39m\u001b[38;5;124mdocstore\u001b[39m\u001b[38;5;124m\"\u001b[39m, InMemoryDocstore())\n\u001b[0;32m    890\u001b[0m index_to_docstore_id \u001b[38;5;241m=\u001b[39m kwargs\u001b[38;5;241m.\u001b[39mpop(\u001b[38;5;124m\"\u001b[39m\u001b[38;5;124mindex_to_docstore_id\u001b[39m\u001b[38;5;124m\"\u001b[39m, {})\n",
      "\u001b[1;31mIndexError\u001b[0m: list index out of range"
     ]
    }
   ],
   "source": [
    "vectordb = FAISS.from_documents(texts, embedding=embeddings)\n"
   ]
  },
  {
   "cell_type": "code",
   "execution_count": null,
   "metadata": {},
   "outputs": [],
   "source": [
    "memory = ConversationSummaryMemory(llm=llm, memory_key = \"chat_history\", return_messages=True)"
   ]
  },
  {
   "cell_type": "code",
   "execution_count": null,
   "metadata": {},
   "outputs": [],
   "source": [
    "qa = ConversationalRetrievalChain.from_llm(llm, retriever=vectordb.as_retriever(search_type=\"mmr\", search_kwargs={\"k\":3}), memory=memory)"
   ]
  },
  {
   "cell_type": "code",
   "execution_count": null,
   "metadata": {},
   "outputs": [],
   "source": [
    "question = \"what is StockResourceController ?\""
   ]
  },
  {
   "cell_type": "code",
   "execution_count": null,
   "metadata": {},
   "outputs": [
    {
     "name": "stdout",
     "output_type": "stream",
     "text": [
      "The provided text does not include the conversation or the follow up question, so I am unable to extract the necessary information to complete the request.\n"
     ]
    }
   ],
   "source": [
    "result = qa(question)\n",
    "print(result['answer'])"
   ]
  },
  {
   "cell_type": "code",
   "execution_count": null,
   "metadata": {},
   "outputs": [
    {
     "name": "stdout",
     "output_type": "stream",
     "text": [
      "Response time : 0.171875\n",
      "**StockResourceController** is a controller class in the given context. It provides an API endpoint to retrieve stock information from a database. \n",
      "\n",
      "- The controller is annotated with `@RestController`, indicating it returns JSON responses.\n",
      "- It uses the `StockJpaRepository` bean to interact with a database repository for accessing `Stock` entities.\n",
      "- The `getAllStocks` method retrieves all stock information from the database and returns them as a JSON response.\n"
     ]
    }
   ],
   "source": [
    "import time\n",
    "\n",
    "\n",
    "\n",
    "if question:\n",
    "    document_chain=create_stuff_documents_chain(llm,prompt)\n",
    "    retriever=vectordb.as_retriever()\n",
    "    retrieval_chain=create_retrieval_chain(retriever,document_chain)\n",
    "    start=time.process_time()\n",
    "    response=retrieval_chain.invoke({'input':question})\n",
    "    print(\"Response time :\",time.process_time()-start)\n",
    "    print(response['answer'])\n"
   ]
  }
 ],
 "metadata": {
  "kernelspec": {
   "display_name": "Python 3",
   "language": "python",
   "name": "python3"
  },
  "language_info": {
   "codemirror_mode": {
    "name": "ipython",
    "version": 3
   },
   "file_extension": ".py",
   "mimetype": "text/x-python",
   "name": "python",
   "nbconvert_exporter": "python",
   "pygments_lexer": "ipython3",
   "version": "3.10.14"
  }
 },
 "nbformat": 4,
 "nbformat_minor": 2
}
